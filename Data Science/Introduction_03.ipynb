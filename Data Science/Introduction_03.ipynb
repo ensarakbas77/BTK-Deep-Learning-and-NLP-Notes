{
 "cells": [
  {
   "cell_type": "markdown",
   "id": "94ff87d7-07cb-4ec9-aa50-c85c8c4a20ae",
   "metadata": {},
   "source": [
    "## zip"
   ]
  },
  {
   "cell_type": "code",
   "execution_count": 1,
   "id": "937cc39f-9c34-43ce-b0e4-ece428dcb995",
   "metadata": {},
   "outputs": [],
   "source": [
    "eats = [\"muz\", \"ananas\", \"elma\"]\n",
    "calories = [100,200,300]\n",
    "days = [\"pazartesi\", \"salı\", \"çarşamba\"]"
   ]
  },
  {
   "cell_type": "code",
   "execution_count": 2,
   "id": "ccecf76e-ef10-4181-87ef-b590ba85a140",
   "metadata": {},
   "outputs": [
    {
     "data": {
      "text/plain": [
       "[('muz', 100, 'pazartesi'), ('ananas', 200, 'salı'), ('elma', 300, 'çarşamba')]"
      ]
     },
     "execution_count": 2,
     "metadata": {},
     "output_type": "execute_result"
    }
   ],
   "source": [
    "zip_list = list(zip(eats, calories, days))\n",
    "zip_list"
   ]
  },
  {
   "cell_type": "code",
   "execution_count": 3,
   "id": "d296ce20-5c53-446e-a0e4-bf48c939e644",
   "metadata": {},
   "outputs": [],
   "source": [
    "# List Comprehension\n",
    "\n",
    "my_string = \"ensarakbaş\""
   ]
  },
  {
   "cell_type": "code",
   "execution_count": 4,
   "id": "a9bbcca3-c68d-44f5-958e-44978b80651f",
   "metadata": {},
   "outputs": [
    {
     "data": {
      "text/plain": [
       "['e', 'n', 's', 'a', 'r', 'a', 'k', 'b', 'a', 'ş']"
      ]
     },
     "execution_count": 4,
     "metadata": {},
     "output_type": "execute_result"
    }
   ],
   "source": [
    "[eleman for eleman in my_string]"
   ]
  },
  {
   "cell_type": "code",
   "execution_count": 5,
   "id": "f2657650-da8d-440d-8e3f-bd6abd1ad93b",
   "metadata": {},
   "outputs": [
    {
     "name": "stdout",
     "output_type": "stream",
     "text": [
      "['armut', 'karpuz', 'kiraz']\n"
     ]
    }
   ],
   "source": [
    "fruits = [\"armut\", \"karpuz\", \"çilek\", \"kiraz\", \"incir\"]\n",
    "new_list = []\n",
    "\n",
    "for x in fruits:\n",
    "    if \"a\" in x:\n",
    "        new_list.append(x)\n",
    "\n",
    "print(new_list)"
   ]
  },
  {
   "cell_type": "code",
   "execution_count": 6,
   "id": "b78f01fb-2039-4af1-9737-95b6f408fa75",
   "metadata": {},
   "outputs": [
    {
     "data": {
      "text/plain": [
       "['armut', 'karpuz', 'kiraz']"
      ]
     },
     "execution_count": 6,
     "metadata": {},
     "output_type": "execute_result"
    }
   ],
   "source": [
    "[x for x in fruits if \"a\" in x] # List Comprehension ile tüm bunları tek bir satır kodla yapabilirsiniz"
   ]
  },
  {
   "cell_type": "code",
   "execution_count": 7,
   "id": "ea9cb79f-b8e5-4546-b0d3-4a8e9852b72a",
   "metadata": {},
   "outputs": [
    {
     "name": "stdout",
     "output_type": "stream",
     "text": [
      "[0, 5, 10, 15, 20, 25, 30, 35, 40, 45]\n"
     ]
    }
   ],
   "source": [
    "numbers = [num * 5 for num in range(0,10)]\n",
    "print(numbers)"
   ]
  },
  {
   "cell_type": "markdown",
   "id": "268250ee-e1c7-4708-89c4-8fe86d91e970",
   "metadata": {},
   "source": [
    "## Fonksiyonlar"
   ]
  },
  {
   "cell_type": "code",
   "execution_count": 8,
   "id": "521c6ab5-a415-4ddf-ac50-7652afc28c79",
   "metadata": {},
   "outputs": [],
   "source": [
    "# Girilen sayıya kadar olanki asalları yazdırma\n",
    "\n",
    "def is_prime(x):\n",
    "    isPrime = True\n",
    "\n",
    "    if x <= 1:\n",
    "        isPrime = False\n",
    "\n",
    "    for i in range(2, int(x**0.5) + 1): # Sayının kareköküne kadar bakmak yeterli\n",
    "        if x % i == 0:\n",
    "            isPrime = False\n",
    "\n",
    "    return isPrime"
   ]
  },
  {
   "cell_type": "code",
   "execution_count": 9,
   "id": "9c4bed04-7b11-4e57-bb1a-5c96f03a65a6",
   "metadata": {},
   "outputs": [],
   "source": [
    "def primeNumbers(num):\n",
    "    primes = []\n",
    "\n",
    "    for i in range(2, num + 1):\n",
    "        if is_prime(i):\n",
    "            primes.append(i)\n",
    "            \n",
    "    return primes"
   ]
  },
  {
   "cell_type": "code",
   "execution_count": 10,
   "id": "e58351d6-2441-4653-b28d-524603d9c34f",
   "metadata": {},
   "outputs": [
    {
     "name": "stdin",
     "output_type": "stream",
     "text": [
      "Bir sayı giriniz: 20\n"
     ]
    },
    {
     "data": {
      "text/plain": [
       "[2, 3, 5, 7, 11, 13, 17, 19]"
      ]
     },
     "execution_count": 10,
     "metadata": {},
     "output_type": "execute_result"
    }
   ],
   "source": [
    "num = int(input('Bir sayı giriniz:'))\n",
    "primeNumbers(num)"
   ]
  },
  {
   "cell_type": "markdown",
   "id": "5e1acd30-cf97-48ee-98dd-b7a12d7c13fc",
   "metadata": {},
   "source": [
    "## args & kwargs"
   ]
  },
  {
   "cell_type": "code",
   "execution_count": 11,
   "id": "caf70a02-4bab-4670-bef0-febf57c02c54",
   "metadata": {},
   "outputs": [
    {
     "data": {
      "text/plain": [
       "55"
      ]
     },
     "execution_count": 11,
     "metadata": {},
     "output_type": "execute_result"
    }
   ],
   "source": [
    "def Topla(*args):\n",
    "    return sum(args)\n",
    "\n",
    "Topla(1,2,3,4,5,6,7,8,9,10)"
   ]
  },
  {
   "cell_type": "code",
   "execution_count": 12,
   "id": "4c214520-2564-4333-ab29-d65c3195d45b",
   "metadata": {},
   "outputs": [],
   "source": [
    "def func(**kwargs):\n",
    "    return kwargs"
   ]
  },
  {
   "cell_type": "code",
   "execution_count": 13,
   "id": "fd8baea8-c23f-4b05-80e9-0523eeccd273",
   "metadata": {},
   "outputs": [
    {
     "data": {
      "text/plain": [
       "{'a1': 10, 'a2': 20}"
      ]
     },
     "execution_count": 13,
     "metadata": {},
     "output_type": "execute_result"
    }
   ],
   "source": [
    "func_ = func(a1 = 10, a2 = 20)\n",
    "func_"
   ]
  },
  {
   "cell_type": "markdown",
   "id": "3c4ffdee-3164-451f-9904-0fe891be53d5",
   "metadata": {},
   "source": [
    "## map"
   ]
  },
  {
   "cell_type": "code",
   "execution_count": 14,
   "id": "b42c81de-60ba-4ddc-be49-41a1ebeb77eb",
   "metadata": {},
   "outputs": [],
   "source": [
    "def divide(num):\n",
    "    return num / 2"
   ]
  },
  {
   "cell_type": "code",
   "execution_count": 15,
   "id": "ad8d2166-ebf9-46bb-b13e-939067c08123",
   "metadata": {},
   "outputs": [
    {
     "name": "stdout",
     "output_type": "stream",
     "text": [
      "[2.5, 5.0, 7.5, 10.0, 12.5, 15.0]\n"
     ]
    }
   ],
   "source": [
    "listem = [5,10,15,20,25,30]\n",
    "\n",
    "new_list = []\n",
    "for i in listem:\n",
    "    new_list.append(divide(i))\n",
    "\n",
    "print(new_list)"
   ]
  },
  {
   "cell_type": "code",
   "execution_count": 16,
   "id": "2ea133ac-a41d-4a80-a1d0-29bdcba6018d",
   "metadata": {},
   "outputs": [
    {
     "data": {
      "text/plain": [
       "[2.5, 5.0, 7.5, 10.0, 12.5, 15.0]"
      ]
     },
     "execution_count": 16,
     "metadata": {},
     "output_type": "execute_result"
    }
   ],
   "source": [
    "list(map(divide, listem))"
   ]
  },
  {
   "cell_type": "code",
   "execution_count": 17,
   "id": "bb11bdc9-e861-40e0-85d6-27a97659b162",
   "metadata": {},
   "outputs": [],
   "source": [
    "def controls(name):\n",
    "    return \"a\" in name"
   ]
  },
  {
   "cell_type": "code",
   "execution_count": 18,
   "id": "7a26dbe6-2e66-4e71-805d-ce75ba72c4de",
   "metadata": {},
   "outputs": [],
   "source": [
    "all_names = [\"ensar\", \"erva\", \"zümra\", \"hilal\", \"yusuf\", \"kerem\"]\n",
    "\n",
    "result_list = list(map(controls, all_names))"
   ]
  },
  {
   "cell_type": "code",
   "execution_count": 19,
   "id": "7fba7f18-84ba-4969-a515-0bc76f9ec758",
   "metadata": {},
   "outputs": [
    {
     "data": {
      "text/plain": [
       "4"
      ]
     },
     "execution_count": 19,
     "metadata": {},
     "output_type": "execute_result"
    }
   ],
   "source": [
    "result_list.count(True)"
   ]
  },
  {
   "cell_type": "markdown",
   "id": "4a4819d5-c29a-48bc-ab9c-0f0051edcfde",
   "metadata": {},
   "source": [
    "## filter"
   ]
  },
  {
   "cell_type": "code",
   "execution_count": 20,
   "id": "5268ced2-8878-494d-bf56-92f3376e7edb",
   "metadata": {},
   "outputs": [
    {
     "data": {
      "text/plain": [
       "['ensar', 'erva', 'zümra', 'hilal']"
      ]
     },
     "execution_count": 20,
     "metadata": {},
     "output_type": "execute_result"
    }
   ],
   "source": [
    "list(filter(controls, all_names))"
   ]
  },
  {
   "cell_type": "markdown",
   "id": "9d573df2-1222-493c-b6a4-bd8d04d386d5",
   "metadata": {},
   "source": [
    "## lambda"
   ]
  },
  {
   "cell_type": "code",
   "execution_count": 21,
   "id": "7244b940-ea1a-4582-81ae-95556435a57f",
   "metadata": {},
   "outputs": [],
   "source": [
    "multiplication = lambda number : number * 3"
   ]
  },
  {
   "cell_type": "code",
   "execution_count": 22,
   "id": "0d1de958-ce96-4fd0-b638-76487b079440",
   "metadata": {},
   "outputs": [
    {
     "data": {
      "text/plain": [
       "30"
      ]
     },
     "execution_count": 22,
     "metadata": {},
     "output_type": "execute_result"
    }
   ],
   "source": [
    "multiplication(10)"
   ]
  },
  {
   "cell_type": "code",
   "execution_count": 23,
   "id": "beff82a9-48ad-4876-be64-1db0b855c749",
   "metadata": {},
   "outputs": [
    {
     "name": "stdout",
     "output_type": "stream",
     "text": [
      "[0, 1, 4, 9, 16, 25, 36, 49, 64, 81]\n"
     ]
    }
   ],
   "source": [
    "last_list = [0,1,2,3,4,5,6,7,8,9]\n",
    "\n",
    "sqrt = list(map(lambda num : num ** 2, last_list)) \n",
    "print(sqrt)"
   ]
  },
  {
   "cell_type": "markdown",
   "id": "8d557f0c-85dd-4128-9836-949f91960869",
   "metadata": {},
   "source": [
    "## scope"
   ]
  },
  {
   "cell_type": "code",
   "execution_count": 24,
   "id": "232cb8ab-416a-481f-94aa-775097e25876",
   "metadata": {},
   "outputs": [],
   "source": [
    "name = \"ensar\" # Global\n",
    "\n",
    "def fun1():\n",
    "    name = \"ali\" # Enclosing\n",
    "\n",
    "    def fun2():\n",
    "        name = \"veli\" # Local\n",
    "        print(name)\n",
    "    fun2()\n",
    "\n",
    "# Hiyerarşide aşağıya doğru inildikçe, bir üst seviyede tanımlanan değişken bir alt seviyede kullanılabiliyor."
   ]
  },
  {
   "cell_type": "code",
   "execution_count": 25,
   "id": "e02d5a08-7927-4e92-9477-e65dfec95b4e",
   "metadata": {},
   "outputs": [
    {
     "name": "stdout",
     "output_type": "stream",
     "text": [
      "ensar\n",
      "veli\n"
     ]
    }
   ],
   "source": [
    "print(name)\n",
    "fun1()"
   ]
  },
  {
   "cell_type": "markdown",
   "id": "eee84e01-b005-4d72-a24f-98aa8ad4cae6",
   "metadata": {},
   "source": [
    "## exception"
   ]
  },
  {
   "cell_type": "code",
   "execution_count": 26,
   "id": "37de185b-b03a-4a86-9d26-b76eb3fdad10",
   "metadata": {},
   "outputs": [
    {
     "name": "stdout",
     "output_type": "stream",
     "text": [
      "\n",
      "Çıkmak için 'q' yazabilirsiniz.\n"
     ]
    },
    {
     "name": "stdin",
     "output_type": "stream",
     "text": [
      "İlk sayıyı giriniz:  10\n",
      "İkinci sayıyı giriniz:  12\n",
      "İşleminizi seçiniz (+ - * /):  +\n"
     ]
    },
    {
     "name": "stdout",
     "output_type": "stream",
     "text": [
      "10 + 12 = 22\n",
      "\n",
      "Çıkmak için 'q' yazabilirsiniz.\n"
     ]
    },
    {
     "name": "stdin",
     "output_type": "stream",
     "text": [
      "İlk sayıyı giriniz:  5\n",
      "İkinci sayıyı giriniz:  ensar\n"
     ]
    },
    {
     "name": "stdout",
     "output_type": "stream",
     "text": [
      "Lütfen geçerli bir sayı giriniz.\n",
      "\n",
      "Çıkmak için 'q' yazabilirsiniz.\n"
     ]
    },
    {
     "name": "stdin",
     "output_type": "stream",
     "text": [
      "İlk sayıyı giriniz:  5\n",
      "İkinci sayıyı giriniz:  0\n",
      "İşleminizi seçiniz (+ - * /):  /\n"
     ]
    },
    {
     "name": "stdout",
     "output_type": "stream",
     "text": [
      "Sıfıra bölme hatası!\n",
      "\n",
      "Çıkmak için 'q' yazabilirsiniz.\n"
     ]
    },
    {
     "name": "stdin",
     "output_type": "stream",
     "text": [
      "İlk sayıyı giriniz:  q\n"
     ]
    },
    {
     "name": "stdout",
     "output_type": "stream",
     "text": [
      "Programdan çıkılıyor...\n"
     ]
    }
   ],
   "source": [
    "def hesapla(a, b, islem):\n",
    "    if islem not in \"+-*/\":\n",
    "        return \"Geçersiz işlem! Şu işlemlerden birini seçiniz: + - * /\"\n",
    "\n",
    "    if islem == \"+\":\n",
    "        return f\"{a} + {b} = {a + b}\"\n",
    "\n",
    "    elif islem == \"-\":\n",
    "        return f\"{a} - {b} = {a - b}\"\n",
    "\n",
    "    elif islem == \"*\":\n",
    "        return f\"{a} * {b} = {a * b}\"\n",
    "\n",
    "    elif islem == \"/\":\n",
    "        if b == 0:\n",
    "            return \"Sıfıra bölme hatası!\"\n",
    "        return f\"{a} / {b} = {a / b}\"\n",
    "\n",
    "\n",
    "while True:\n",
    "    print(\"\\nÇıkmak için 'q' yazabilirsiniz.\")\n",
    "    try:\n",
    "        a_input = input(\"İlk sayıyı giriniz: \")\n",
    "        if a_input.lower() == \"q\":\n",
    "            print(\"Programdan çıkılıyor...\")\n",
    "            break\n",
    "\n",
    "        b_input = input(\"İkinci sayıyı giriniz: \")\n",
    "        if b_input.lower() == \"q\":\n",
    "            print(\"Programdan çıkılıyor...\")\n",
    "            break\n",
    "\n",
    "        a = int(a_input)\n",
    "        b = int(b_input)\n",
    "\n",
    "        islem = input(\"İşleminizi seçiniz (+ - * /): \")\n",
    "        if islem.lower() == \"q\":\n",
    "            print(\"Programdan çıkılıyor...\")\n",
    "            break\n",
    "\n",
    "        print(hesapla(a, b, islem))\n",
    "\n",
    "    except ValueError:\n",
    "        print(\"Lütfen geçerli bir sayı giriniz.\")\n",
    "    except Exception as e:\n",
    "        print(f\"Beklenmeyen bir hata oluştu: {e}\")\n"
   ]
  }
 ],
 "metadata": {
  "kernelspec": {
   "display_name": "Python 3 (ipykernel)",
   "language": "python",
   "name": "python3"
  },
  "language_info": {
   "codemirror_mode": {
    "name": "ipython",
    "version": 3
   },
   "file_extension": ".py",
   "mimetype": "text/x-python",
   "name": "python",
   "nbconvert_exporter": "python",
   "pygments_lexer": "ipython3",
   "version": "3.13.5"
  }
 },
 "nbformat": 4,
 "nbformat_minor": 5
}
