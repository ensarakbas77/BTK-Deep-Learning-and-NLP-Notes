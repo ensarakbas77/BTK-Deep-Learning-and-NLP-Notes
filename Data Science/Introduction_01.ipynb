{
 "cells": [
  {
   "cell_type": "markdown",
   "id": "5bb194a2-b7ed-4690-b6fe-29c52b621001",
   "metadata": {},
   "source": [
    "# Giriş"
   ]
  },
  {
   "cell_type": "code",
   "execution_count": 1,
   "id": "25e23407-9a22-4def-8ad5-f7c0a29369b7",
   "metadata": {},
   "outputs": [],
   "source": [
    "x = 10\n",
    "y = 3"
   ]
  },
  {
   "cell_type": "code",
   "execution_count": 2,
   "id": "e4e1b16f-2bac-4758-8be5-2ae04de64f15",
   "metadata": {},
   "outputs": [
    {
     "name": "stdout",
     "output_type": "stream",
     "text": [
      "100\n",
      "1\n",
      "3.3333333333333335\n",
      "3\n"
     ]
    }
   ],
   "source": [
    "print(x ** 2)\n",
    "\n",
    "# Remainder\n",
    "print(x % y)\n",
    "\n",
    "print(x / y)\n",
    "print(x // y)"
   ]
  },
  {
   "cell_type": "code",
   "execution_count": 3,
   "id": "290d8573-ae16-424f-b823-42b6f04e2169",
   "metadata": {},
   "outputs": [
    {
     "name": "stdout",
     "output_type": "stream",
     "text": [
      "EEEEE\n"
     ]
    }
   ],
   "source": [
    "char = \"E\"\n",
    "print(char * 5)"
   ]
  },
  {
   "cell_type": "code",
   "execution_count": 4,
   "id": "bee103a7-9bec-4696-8bee-eb299f392111",
   "metadata": {},
   "outputs": [
    {
     "name": "stdout",
     "output_type": "stream",
     "text": [
      "<class 'int'>\n"
     ]
    }
   ],
   "source": [
    "# type conversion\n",
    "x = 10\n",
    "print(type(x))"
   ]
  },
  {
   "cell_type": "code",
   "execution_count": 5,
   "id": "0b0abf40-09d0-4d68-8425-e2711d58c916",
   "metadata": {},
   "outputs": [
    {
     "name": "stdout",
     "output_type": "stream",
     "text": [
      "<class 'str'>\n"
     ]
    }
   ],
   "source": [
    "x = str(x)\n",
    "print(type(x))"
   ]
  },
  {
   "cell_type": "code",
   "execution_count": 6,
   "id": "20b15e7e-17aa-40b5-a280-9928d85fe1c2",
   "metadata": {},
   "outputs": [
    {
     "data": {
      "text/plain": [
       "'10'"
      ]
     },
     "execution_count": 6,
     "metadata": {},
     "output_type": "execute_result"
    }
   ],
   "source": [
    "x"
   ]
  },
  {
   "cell_type": "code",
   "execution_count": 7,
   "id": "c137bcfe-c02d-496e-a213-64d8cbf332ee",
   "metadata": {},
   "outputs": [
    {
     "data": {
      "text/plain": [
       "'1010101010'"
      ]
     },
     "execution_count": 7,
     "metadata": {},
     "output_type": "execute_result"
    }
   ],
   "source": [
    "x * 5"
   ]
  },
  {
   "cell_type": "markdown",
   "id": "3045a403-ebf6-4e41-bb18-f659ea2053e9",
   "metadata": {},
   "source": [
    "# Slicing"
   ]
  },
  {
   "cell_type": "code",
   "execution_count": 8,
   "id": "f4a5236b-763d-4bad-8023-2af950fce9e1",
   "metadata": {},
   "outputs": [
    {
     "name": "stdout",
     "output_type": "stream",
     "text": [
      "cdef\n",
      "ab\n"
     ]
    }
   ],
   "source": [
    "chars = \"abcdef\"\n",
    "\n",
    "print(chars[2:]) # Dahil\n",
    "\n",
    "print(chars[:2]) # Dahil Değil"
   ]
  },
  {
   "cell_type": "code",
   "execution_count": 9,
   "id": "fa2a0276-4258-4bd7-9cd9-7e749fee08fa",
   "metadata": {},
   "outputs": [
    {
     "name": "stdout",
     "output_type": "stream",
     "text": [
      "ef\n",
      "abcd\n"
     ]
    }
   ],
   "source": [
    "print(chars[-2:])\n",
    "print(chars[:-2])"
   ]
  },
  {
   "cell_type": "code",
   "execution_count": 10,
   "id": "e865d42c-dae5-479a-87a6-7de46daac2cb",
   "metadata": {},
   "outputs": [
    {
     "name": "stdout",
     "output_type": "stream",
     "text": [
      "sa\n",
      "sa\n"
     ]
    }
   ],
   "source": [
    "name = \"ensar\"\n",
    "print(name[2:4]) # [ Başlangıç Indexi, Durdurma Indexi ) \n",
    "\n",
    "full_name = \"ensar akbaş\"\n",
    "print(full_name[2::7]) # başlangıç, durdurma, step size"
   ]
  },
  {
   "cell_type": "code",
   "execution_count": 11,
   "id": "010770a1-f72b-47e5-af18-dde14a178976",
   "metadata": {},
   "outputs": [
    {
     "data": {
      "text/plain": [
       "'şabka rasne'"
      ]
     },
     "execution_count": 11,
     "metadata": {},
     "output_type": "execute_result"
    }
   ],
   "source": [
    "full_name[::-1]"
   ]
  },
  {
   "cell_type": "code",
   "execution_count": 12,
   "id": "53a35190-f33d-4c17-874b-17f7d072a3f1",
   "metadata": {},
   "outputs": [
    {
     "name": "stdout",
     "output_type": "stream",
     "text": [
      "Ensar\n",
      "ENSAR\n",
      "['ensar', 'akbaş']\n",
      "<class 'list'>\n"
     ]
    }
   ],
   "source": [
    "print(name.capitalize())\n",
    "print(name.upper()) # lower() --> ensar\n",
    "print(full_name.split())\n",
    "print(type(full_name.split()))"
   ]
  },
  {
   "cell_type": "code",
   "execution_count": 13,
   "id": "2319e006-dc80-404b-9152-94c30aad2796",
   "metadata": {},
   "outputs": [
    {
     "name": "stdout",
     "output_type": "stream",
     "text": [
      "ensaR\n",
      "0\n",
      "False\n",
      "True\n"
     ]
    }
   ],
   "source": [
    "print(name.replace(\"r\", \"R\"))\n",
    "print(name.index(\"e\"))\n",
    "print(name.startswith(\"n\"))\n",
    "print(name.endswith(\"r\"))"
   ]
  },
  {
   "cell_type": "markdown",
   "id": "574fb8ab-13aa-42bd-8f90-ac039755c49c",
   "metadata": {},
   "source": [
    "# Listeler"
   ]
  },
  {
   "cell_type": "code",
   "execution_count": 14,
   "id": "e05ee9f9-0efb-4bfe-99ae-2f5350c7e0f9",
   "metadata": {},
   "outputs": [
    {
     "name": "stdout",
     "output_type": "stream",
     "text": [
      "e\n",
      "e\n",
      "\n",
      "[10, 20, 30, 40]\n",
      "[100, 20, 30, 40]\n",
      "  [100, 20, 30, 40, 100, 20, 30, 40]\n",
      "   [100, 20, 30, 40, 100, 20, 30, 40, 100, 20, 30, 40]\n"
     ]
    }
   ],
   "source": [
    "# immutable (değişmez) & mutable (değişebilir)\n",
    "\n",
    "# immutable örnek\n",
    "my_string = \"Selam\"\n",
    "print(my_string[1])\n",
    "# my_string[1] = \"a\" # Salam olsun istiyoruz.\n",
    "# Error : 'str' object does not support item assignment\n",
    "print(my_string[1])\n",
    "print()\n",
    "\n",
    "# Listeler mutable' dir.\n",
    "my_list = [10,20,30]\n",
    "my_list.append(40)\n",
    "print(my_list)\n",
    "\n",
    "my_list[0] = 100\n",
    "print(my_list)\n",
    "\n",
    "# diğer özellikler\n",
    "new_list = my_list * 2\n",
    "print(\" \", new_list)\n",
    "\n",
    "new_list = my_list + new_list\n",
    "print(\"  \", new_list)"
   ]
  },
  {
   "cell_type": "code",
   "execution_count": 15,
   "id": "f6943d04-22a2-452b-85f5-df689b4b59ca",
   "metadata": {},
   "outputs": [
    {
     "name": "stdout",
     "output_type": "stream",
     "text": [
      "['ensar', 21, 30, 50, 'A', 2004, 'akbaş']\n",
      "['ensar', 21, 30, 50, 'A', 2004]\n",
      "['ensar', 21, 30, 50, 2004]\n",
      "2\n",
      "[100, 'ensar', 21, 30, 50, 2004, 21]\n"
     ]
    }
   ],
   "source": [
    "# liste metotları\n",
    "\n",
    "new_list = [\"ensar\", 21, 30, 50, \"A\", 2004, \"akbaş\"]\n",
    "print(new_list)\n",
    "\n",
    "# Son elemanı sil\n",
    "new_list.pop()\n",
    "print(new_list)\n",
    "\n",
    "# İstediğin elemanı sil\n",
    "new_list.remove(\"A\")\n",
    "print(new_list)\n",
    "\n",
    "# Bir elemandan kaç tane var ?\n",
    "new_list.append(21)\n",
    "print(new_list.count(21))\n",
    "\n",
    "# İstediğin indexe eleman ekle\n",
    "new_list.insert(0, 100)\n",
    "print(new_list)"
   ]
  },
  {
   "cell_type": "code",
   "execution_count": 16,
   "id": "dccebce3-54d4-42bd-b709-2860dc4001e3",
   "metadata": {},
   "outputs": [
    {
     "name": "stdout",
     "output_type": "stream",
     "text": [
      "[4, 63, 7, 45, 1, 5, 100]\n",
      "[1, 4, 5, 7, 45, 63, 100]\n"
     ]
    }
   ],
   "source": [
    "number_list = [100,5,1,45,7,63,4]\n",
    "\n",
    "# Listeyi ters çevir\n",
    "number_list.reverse()\n",
    "print(number_list)\n",
    "\n",
    "# listeyi sırala\n",
    "number_list.sort()\n",
    "print(number_list)"
   ]
  },
  {
   "cell_type": "code",
   "execution_count": 17,
   "id": "db835de8-cd57-413c-a8e5-ad38b5180607",
   "metadata": {},
   "outputs": [
    {
     "data": {
      "text/plain": [
       "4"
      ]
     },
     "execution_count": 17,
     "metadata": {},
     "output_type": "execute_result"
    }
   ],
   "source": [
    "# Nested List - İç içe liste\n",
    "nested_list = [10,20,[30,40,[50,60]],70]\n",
    "len(nested_list)"
   ]
  },
  {
   "cell_type": "code",
   "execution_count": 18,
   "id": "34f72846-30c1-48f1-9873-bab5eb007116",
   "metadata": {},
   "outputs": [
    {
     "name": "stdout",
     "output_type": "stream",
     "text": [
      "20\n",
      "  [30, 40, [50, 60]]\n",
      "30\n",
      "  [50, 60]\n",
      "60\n"
     ]
    }
   ],
   "source": [
    "print(nested_list[1])\n",
    "print(\" \", nested_list[2])\n",
    "print(nested_list[2][0])\n",
    "print(\" \", nested_list[2][2])\n",
    "print(nested_list[2][2][1])"
   ]
  },
  {
   "cell_type": "code",
   "execution_count": 19,
   "id": "272a7991-7229-4fe9-a624-17dd66681100",
   "metadata": {},
   "outputs": [
    {
     "name": "stdout",
     "output_type": "stream",
     "text": [
      "['en', [6, 'z']]\n",
      "[[6, 'z']]\n",
      "z\n",
      "[10, 'en']\n"
     ]
    }
   ],
   "source": [
    "# Listelerde slicing (dilimleme)\n",
    "slice_list = [10,30,\"en\", [6,\"z\"]]\n",
    "print(slice_list[2:])\n",
    "print(slice_list[3:])\n",
    "print(slice_list[3:][0][1])\n",
    "print(slice_list[::2])"
   ]
  },
  {
   "cell_type": "markdown",
   "id": "86e7990e-a665-460a-9854-893ee12afc38",
   "metadata": {},
   "source": [
    "# Sözlükler"
   ]
  },
  {
   "cell_type": "code",
   "execution_count": 20,
   "id": "a1c19125-4507-40f1-8952-f61b8593b3ba",
   "metadata": {},
   "outputs": [
    {
     "name": "stdout",
     "output_type": "stream",
     "text": [
      "<class 'dict'>\n"
     ]
    }
   ],
   "source": [
    "my_dict = {} # my_dict = dict()\n",
    "print(type(my_dict))"
   ]
  },
  {
   "cell_type": "code",
   "execution_count": 21,
   "id": "01a44877-fb34-4f30-b961-e35562e6f55c",
   "metadata": {},
   "outputs": [
    {
     "name": "stdout",
     "output_type": "stream",
     "text": [
      "{0: 'a', 1: 'b', 2: 'c'}\n"
     ]
    }
   ],
   "source": [
    "# key-value pairing (anahtar kelime - değer eşleşmesi)\n",
    "my_dict = {0: \"a\", 1: \"b\", 2: \"c\"}\n",
    "print(my_dict)"
   ]
  },
  {
   "cell_type": "code",
   "execution_count": 22,
   "id": "27ce6f71-aad8-4e92-a13f-aa0b51ea4ea1",
   "metadata": {},
   "outputs": [
    {
     "data": {
      "text/plain": [
       "'a'"
      ]
     },
     "execution_count": 22,
     "metadata": {},
     "output_type": "execute_result"
    }
   ],
   "source": [
    "my_dict[0] # [] içerisine anahtar kelime girilmeli"
   ]
  },
  {
   "cell_type": "code",
   "execution_count": 23,
   "id": "96c6ff88-aeaf-4480-870c-c91294eff6a6",
   "metadata": {},
   "outputs": [
    {
     "name": "stdout",
     "output_type": "stream",
     "text": [
      "dict_keys([0, 1, 2])\n",
      "dict_values(['a', 'b', 'c'])\n",
      "{0: 'a', 1: 'b', 2: 'c', 3: 'd', 'anahtarKelime': 'değer'} \n",
      "\n",
      "{0: 'a', 1: 'b', 2: 'c', 3: 'd'}\n",
      "a\n",
      "dict_items([(0, 'a'), (1, 'b'), (2, 'c'), (3, 'd')]) --> <class 'dict_items'>\n"
     ]
    }
   ],
   "source": [
    "# sözlük metotları (dictionary methods)\n",
    "\n",
    "# anahtarları al\n",
    "print(my_dict.keys())\n",
    "\n",
    "# değerleri al\n",
    "print(my_dict.values())\n",
    "\n",
    "# yeni değer ekle\n",
    "my_dict[3] = \"d\"\n",
    "my_dict[\"anahtarKelime\"] = \"değer\"\n",
    "print(my_dict,\"\\n\")\n",
    "\n",
    "# İstenen elemanı sil\n",
    "my_dict.pop(\"anahtarKelime\")\n",
    "print(my_dict)\n",
    "\n",
    "# Anahtar kelimeyi girdiğinde karşılık gelen değeri geri döner\n",
    "print(my_dict.get(0))\n",
    "\n",
    "# Sözlüğün tamamını getirir\n",
    "print(my_dict.items(), end=\" --> \")\n",
    "print(type(my_dict.items()))"
   ]
  },
  {
   "cell_type": "code",
   "execution_count": 24,
   "id": "4b9f67d3-557c-4655-a759-f869764fd625",
   "metadata": {},
   "outputs": [
    {
     "name": "stdout",
     "output_type": "stream",
     "text": [
      "100\n",
      "[10, 20, 'ensar']\n",
      "ensar \n",
      "\n",
      "{'b1': 0, 'b2': 1, 'b3': [7, 'akbaş']}\n",
      "[7, 'akbaş']\n",
      "akbaş \n",
      "\n",
      "ENSAR AKBAŞ 😎\n"
     ]
    }
   ],
   "source": [
    "# iç içe sözlük (nested dictionary) burada da kullanılabilir\n",
    "new_dict = {\"a1\": 100, \"a2\": [10,20,\"ensar\"], \"a3\": {\"b1\": 0, \"b2\": 1, \"b3\": [7, \"akbaş\"]}}\n",
    "\n",
    "# ensar akbaş yazalım.\n",
    "\n",
    "print(new_dict[\"a1\"])\n",
    "print(new_dict[\"a2\"])\n",
    "print(new_dict[\"a2\"][2],\"\\n\")\n",
    "\n",
    "print(new_dict[\"a3\"])\n",
    "print(new_dict[\"a3\"][\"b3\"])\n",
    "print(new_dict[\"a3\"][\"b3\"][1],\"\\n\")\n",
    "\n",
    "say_my_name = new_dict[\"a2\"][2] + \" \" +new_dict[\"a3\"][\"b3\"][1]\n",
    "print(say_my_name.upper(), \"😎\")"
   ]
  },
  {
   "cell_type": "markdown",
   "id": "228d816e-9300-45fd-9c6d-5414fd7fe13a",
   "metadata": {},
   "source": [
    "# Set & Tuple"
   ]
  },
  {
   "cell_type": "code",
   "execution_count": 25,
   "id": "533777f1-9a09-466e-956a-78dcb4f390c8",
   "metadata": {},
   "outputs": [
    {
     "name": "stdout",
     "output_type": "stream",
     "text": [
      "<class 'set'>\n"
     ]
    }
   ],
   "source": [
    "my_set = set()\n",
    "print(type(my_set))"
   ]
  },
  {
   "cell_type": "code",
   "execution_count": 26,
   "id": "2006e12e-0bd8-40b7-b81c-ed84de3fccbb",
   "metadata": {},
   "outputs": [
    {
     "name": "stdout",
     "output_type": "stream",
     "text": [
      "[10, 10, 20, 30, 40, 40, 40, 50, 60]\n",
      "{40, 10, 50, 20, 60, 30}\n"
     ]
    }
   ],
   "source": [
    "listem = [10,10,20,30,40,40,40,50,60]\n",
    "print(listem)\n",
    "\n",
    "my_set = set(listem)\n",
    "print(my_set)"
   ]
  },
  {
   "cell_type": "code",
   "execution_count": 27,
   "id": "a126a7cb-712b-4f8c-9b70-23559f4d3f50",
   "metadata": {},
   "outputs": [
    {
     "data": {
      "text/plain": [
       "{1, 2, 3, 4, 'a', 'b', 'c'}"
      ]
     },
     "execution_count": 27,
     "metadata": {},
     "output_type": "execute_result"
    }
   ],
   "source": [
    "new_set = {\"a\", 1, \"b\", \"a\", 2, 3, 4, 1, 1, \"c\"}\n",
    "new_set"
   ]
  },
  {
   "cell_type": "code",
   "execution_count": 28,
   "id": "94b7c778-351d-478c-b535-ab70a204614f",
   "metadata": {},
   "outputs": [
    {
     "name": "stdout",
     "output_type": "stream",
     "text": [
      "<class 'tuple'>\n"
     ]
    }
   ],
   "source": [
    "my_tuple = () # my_tuple = tuple()\n",
    "print(type(my_tuple))"
   ]
  },
  {
   "cell_type": "code",
   "execution_count": 29,
   "id": "e1fa9161-13e2-4a84-ac60-6eb88743f43f",
   "metadata": {},
   "outputs": [
    {
     "name": "stdout",
     "output_type": "stream",
     "text": [
      "(10, 20, 30, 40, 50)\n"
     ]
    }
   ],
   "source": [
    "my_tuple = (10,20,30,40,50)\n",
    "print(my_tuple)\n",
    "\n",
    "# Tuple immutable bir yapıdadır.\n",
    "# my_tuple[2] = 100\n",
    "# 'tuple' object does not support item assignment"
   ]
  },
  {
   "cell_type": "code",
   "execution_count": 30,
   "id": "87e347b2-8182-4333-9b98-31710c2ca5c8",
   "metadata": {},
   "outputs": [
    {
     "name": "stdout",
     "output_type": "stream",
     "text": [
      "1\n",
      "4\n"
     ]
    }
   ],
   "source": [
    "print(my_tuple.count(10))\n",
    "print(my_tuple.index(50))"
   ]
  },
  {
   "cell_type": "code",
   "execution_count": null,
   "id": "208de03b-372f-4c97-a621-370c723db6fd",
   "metadata": {},
   "outputs": [],
   "source": []
  }
 ],
 "metadata": {
  "kernelspec": {
   "display_name": "Python 3 (ipykernel)",
   "language": "python",
   "name": "python3"
  },
  "language_info": {
   "codemirror_mode": {
    "name": "ipython",
    "version": 3
   },
   "file_extension": ".py",
   "mimetype": "text/x-python",
   "name": "python",
   "nbconvert_exporter": "python",
   "pygments_lexer": "ipython3",
   "version": "3.13.5"
  }
 },
 "nbformat": 4,
 "nbformat_minor": 5
}
