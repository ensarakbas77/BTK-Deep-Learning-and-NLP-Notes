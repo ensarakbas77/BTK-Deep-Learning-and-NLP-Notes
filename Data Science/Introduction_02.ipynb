{
 "cells": [
  {
   "cell_type": "markdown",
   "id": "611e08d2-dbc7-4031-8360-1c49bcfb5095",
   "metadata": {},
   "source": [
    "# Condition (Şart)"
   ]
  },
  {
   "cell_type": "code",
   "execution_count": 1,
   "id": "d929f6b7-6856-4a22-936c-592efdc9360f",
   "metadata": {},
   "outputs": [
    {
     "name": "stdout",
     "output_type": "stream",
     "text": [
      "True\n",
      "False\n",
      "True\n",
      "False\n",
      "True\n",
      "True\n",
      "True\n",
      "False\n",
      "True\n",
      "False\n"
     ]
    }
   ],
   "source": [
    "print(4 > 3)\n",
    "print(5 < 2)\n",
    "print(9 >= 9)\n",
    "print(5 <= 1)\n",
    "print(5 == 5)\n",
    "print(1 != 3)\n",
    "print(4 > 1 and 3 < 4)\n",
    "print(2 > 1 and 3 < 0)\n",
    "print(4 > 1 or 3 < 4)\n",
    "print(3 < 2 or 5 > 7)"
   ]
  },
  {
   "cell_type": "markdown",
   "id": "eeae6c8c-6ef9-4f54-9816-ad19ce01c32b",
   "metadata": {},
   "source": [
    "# If Statement"
   ]
  },
  {
   "cell_type": "code",
   "execution_count": 2,
   "id": "d5b04536-e068-41a5-99d6-0c5593ae94a3",
   "metadata": {},
   "outputs": [
    {
     "name": "stdout",
     "output_type": "stream",
     "text": [
      "var\n"
     ]
    }
   ],
   "source": [
    "name = \"ensar akbaş\"\n",
    "\n",
    "if \"e\" in name:\n",
    "    print(\"var\")\n",
    "else:\n",
    "    print(\"yok\")"
   ]
  },
  {
   "cell_type": "code",
   "execution_count": 3,
   "id": "a884886a-a224-4900-88c5-8800050445c5",
   "metadata": {},
   "outputs": [
    {
     "name": "stdout",
     "output_type": "stream",
     "text": [
      "yok\n"
     ]
    }
   ],
   "source": [
    "listem = [10,20,30,40]\n",
    "\n",
    "if 60 in listem:\n",
    "    print(\"var\")\n",
    "else:\n",
    "    print(\"yok\")"
   ]
  },
  {
   "cell_type": "markdown",
   "id": "bcf02934-36f9-41d1-950a-335cfa29d583",
   "metadata": {},
   "source": [
    "# For Loop (Döngüsü)"
   ]
  },
  {
   "cell_type": "code",
   "execution_count": 4,
   "id": "f492c82a-0c8d-4747-b827-26fb046794df",
   "metadata": {},
   "outputs": [
    {
     "name": "stdout",
     "output_type": "stream",
     "text": [
      "16.67 33.33 50.00 66.67 83.33 "
     ]
    }
   ],
   "source": [
    "my_list = [10,20,30,40,50]\n",
    "\n",
    "for i in my_list:\n",
    "    divide = i * 5 / 3\n",
    "    print(f\"{divide:.2f}\", end=\" \")"
   ]
  },
  {
   "cell_type": "code",
   "execution_count": 5,
   "id": "c0d0e526-a726-4022-a114-7bf8cb099234",
   "metadata": {},
   "outputs": [
    {
     "name": "stdout",
     "output_type": "stream",
     "text": [
      "Çift Rakamlar:\n",
      "0 2 4 6 8 "
     ]
    }
   ],
   "source": [
    "listem = [0,1,2,3,4,5,6,7,8,9]\n",
    "\n",
    "print(\"Çift Rakamlar:\")\n",
    "for i in listem:\n",
    "    if i % 2 == 0:\n",
    "        print(i, end = \" \")"
   ]
  },
  {
   "cell_type": "code",
   "execution_count": 6,
   "id": "7983ea83-0ebd-4610-85fd-5fa82a7c9df7",
   "metadata": {},
   "outputs": [
    {
     "name": "stdout",
     "output_type": "stream",
     "text": [
      "104.03999999999999\n",
      "29.160000000000004\n",
      "24.010000000000005\n"
     ]
    }
   ],
   "source": [
    "koordinat = [(10.2, 20.5), (5.4, 1.1), (4.9, 11.3)]\n",
    "\n",
    "for (x, y) in koordinat:\n",
    "    print(x ** 2)"
   ]
  },
  {
   "cell_type": "code",
   "execution_count": 7,
   "id": "85118d11-3882-4d47-ba8c-3951b937006d",
   "metadata": {},
   "outputs": [],
   "source": [
    "# prime number example (Asal Sayı)\n",
    "\n",
    "def isPrime(num):\n",
    "    is_prime = True\n",
    "\n",
    "    if num <= 1: \n",
    "        is_prime = False\n",
    "\n",
    "    for i in range(2, num):\n",
    "        if num % i == 0:\n",
    "            is_prime = False\n",
    "            break\n",
    "            \n",
    "    return is_prime"
   ]
  },
  {
   "cell_type": "code",
   "execution_count": 8,
   "id": "defe328e-e19d-476c-a952-e68c801c8b7e",
   "metadata": {},
   "outputs": [
    {
     "name": "stdout",
     "output_type": "stream",
     "text": [
      "Asal\n"
     ]
    }
   ],
   "source": [
    "x = 23 \n",
    "if isPrime(x):\n",
    "    print(\"Asal\")\n",
    "else:\n",
    "    print(\"Asal Değil\")"
   ]
  },
  {
   "cell_type": "markdown",
   "id": "1a249f46-7c5c-4962-a801-a0b96a02320e",
   "metadata": {},
   "source": [
    "# While Loop"
   ]
  },
  {
   "cell_type": "code",
   "execution_count": 9,
   "id": "a35e47b3-8013-4c58-bef5-073da5b461cf",
   "metadata": {},
   "outputs": [
    {
     "name": "stdout",
     "output_type": "stream",
     "text": [
      "1 3 5 7 9 11 13 15 17 19 21 23 25 27 29 "
     ]
    }
   ],
   "source": [
    "# 0-30 tek sayılar\n",
    "\n",
    "i = 0\n",
    "while i <= 30:\n",
    "    if i % 2 == 1:\n",
    "        print(i, end=\" \")\n",
    "    i = i +1"
   ]
  },
  {
   "cell_type": "markdown",
   "id": "e3aec854-31e4-4321-901b-df2f8b155c50",
   "metadata": {},
   "source": [
    "# range"
   ]
  },
  {
   "cell_type": "code",
   "execution_count": 10,
   "id": "52cf493f-050a-4f1a-af13-998c0b86efa7",
   "metadata": {},
   "outputs": [
    {
     "data": {
      "text/plain": [
       "range(2, 10)"
      ]
     },
     "execution_count": 10,
     "metadata": {},
     "output_type": "execute_result"
    }
   ],
   "source": [
    "range(2, 10) # [dahil, dahil değil)"
   ]
  },
  {
   "cell_type": "code",
   "execution_count": 11,
   "id": "71255ecc-ae35-40d4-9562-f58127a8aeb7",
   "metadata": {},
   "outputs": [
    {
     "data": {
      "text/plain": [
       "[2, 3, 4, 5, 6, 7, 8, 9]"
      ]
     },
     "execution_count": 11,
     "metadata": {},
     "output_type": "execute_result"
    }
   ],
   "source": [
    "list(range(2, 10))"
   ]
  },
  {
   "cell_type": "code",
   "execution_count": 12,
   "id": "007c760a-da1e-4360-894e-5ad0b186db15",
   "metadata": {},
   "outputs": [
    {
     "data": {
      "text/plain": [
       "[5, 10, 15, 20, 25, 30, 35, 40, 45]"
      ]
     },
     "execution_count": 12,
     "metadata": {},
     "output_type": "execute_result"
    }
   ],
   "source": [
    "list(range(5, 46, 5))"
   ]
  },
  {
   "cell_type": "markdown",
   "id": "28c5a40a-d127-4ed3-bb16-da5bf09f9fff",
   "metadata": {},
   "source": [
    "# enumerate"
   ]
  },
  {
   "cell_type": "code",
   "execution_count": 13,
   "id": "7a6837d4-d060-49e5-bbc6-246ba5ae6643",
   "metadata": {},
   "outputs": [
    {
     "name": "stdout",
     "output_type": "stream",
     "text": [
      "Number: 5 - Index: 0\n",
      "Number: 6 - Index: 1\n",
      "Number: 7 - Index: 2\n",
      "Number: 8 - Index: 3\n",
      "Number: 9 - Index: 4\n",
      "Number: 10 - Index: 5\n",
      "Number: 11 - Index: 6\n",
      "Number: 12 - Index: 7\n",
      "Number: 13 - Index: 8\n",
      "Number: 14 - Index: 9\n"
     ]
    }
   ],
   "source": [
    "index = 0 \n",
    "for number in list(range(5, 15)):\n",
    "    print(f\"Number: {number} - Index: {index}\")\n",
    "    index = index + 1"
   ]
  },
  {
   "cell_type": "code",
   "execution_count": 14,
   "id": "7ef8e38c-00cf-4462-9cd7-efcc0e201eed",
   "metadata": {},
   "outputs": [
    {
     "name": "stdout",
     "output_type": "stream",
     "text": [
      "(0, 5)\n",
      "(1, 6)\n",
      "(2, 7)\n",
      "(3, 8)\n",
      "(4, 9)\n",
      "(5, 10)\n",
      "(6, 11)\n",
      "(7, 12)\n",
      "(8, 13)\n",
      "(9, 14)\n"
     ]
    }
   ],
   "source": [
    "for eleman in enumerate(list(range(5,15))):\n",
    "    print(eleman)"
   ]
  },
  {
   "cell_type": "code",
   "execution_count": 15,
   "id": "d7f0b599-9ece-4117-b086-693cbd1d954d",
   "metadata": {},
   "outputs": [
    {
     "name": "stdout",
     "output_type": "stream",
     "text": [
      "5\n",
      "6\n",
      "7\n",
      "8\n",
      "9\n",
      "10\n",
      "11\n",
      "12\n",
      "13\n",
      "14\n"
     ]
    }
   ],
   "source": [
    "for index, eleman in enumerate(list(range(5,15))):\n",
    "    print(eleman)"
   ]
  },
  {
   "cell_type": "markdown",
   "id": "2ddb0eec-027c-4ace-8793-fb5cc232755b",
   "metadata": {},
   "source": [
    "# random"
   ]
  },
  {
   "cell_type": "code",
   "execution_count": 16,
   "id": "4634c7a8-5a3b-4129-94cf-aad2c565dd98",
   "metadata": {},
   "outputs": [],
   "source": [
    "from random import randint"
   ]
  },
  {
   "cell_type": "code",
   "execution_count": 17,
   "id": "2c4c1c75-5f56-4305-8689-4edd2ea92a0e",
   "metadata": {},
   "outputs": [
    {
     "data": {
      "text/plain": [
       "80"
      ]
     },
     "execution_count": 17,
     "metadata": {},
     "output_type": "execute_result"
    }
   ],
   "source": [
    "random_num = randint(0,100)\n",
    "random_num"
   ]
  },
  {
   "cell_type": "code",
   "execution_count": 18,
   "id": "93619ca4-f680-4551-bcd4-748c8e93a635",
   "metadata": {},
   "outputs": [],
   "source": [
    "from random import shuffle "
   ]
  },
  {
   "cell_type": "code",
   "execution_count": 19,
   "id": "5af5fccc-2001-4a60-ad2f-2bd454b22ddc",
   "metadata": {},
   "outputs": [
    {
     "data": {
      "text/plain": [
       "[0, 1, 2, 3, 4, 5, 6, 7, 8, 9]"
      ]
     },
     "execution_count": 19,
     "metadata": {},
     "output_type": "execute_result"
    }
   ],
   "source": [
    "yeniListe = list(range(0,10))\n",
    "yeniListe"
   ]
  },
  {
   "cell_type": "code",
   "execution_count": 20,
   "id": "08e6fdac-e680-4614-81be-a736fb0d17ef",
   "metadata": {},
   "outputs": [
    {
     "data": {
      "text/plain": [
       "[6, 2, 4, 7, 5, 3, 0, 1, 8, 9]"
      ]
     },
     "execution_count": 20,
     "metadata": {},
     "output_type": "execute_result"
    }
   ],
   "source": [
    "shuffle(yeniListe)\n",
    "yeniListe"
   ]
  },
  {
   "cell_type": "code",
   "execution_count": null,
   "id": "06b1064c-5861-4d45-8f9f-035a17a6887b",
   "metadata": {},
   "outputs": [],
   "source": []
  }
 ],
 "metadata": {
  "kernelspec": {
   "display_name": "Python 3 (ipykernel)",
   "language": "python",
   "name": "python3"
  },
  "language_info": {
   "codemirror_mode": {
    "name": "ipython",
    "version": 3
   },
   "file_extension": ".py",
   "mimetype": "text/x-python",
   "name": "python",
   "nbconvert_exporter": "python",
   "pygments_lexer": "ipython3",
   "version": "3.13.5"
  }
 },
 "nbformat": 4,
 "nbformat_minor": 5
}
